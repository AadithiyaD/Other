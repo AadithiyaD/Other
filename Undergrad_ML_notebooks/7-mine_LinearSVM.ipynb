{
  "nbformat": 4,
  "nbformat_minor": 0,
  "metadata": {
    "colab": {
      "provenance": [],
      "collapsed_sections": []
    },
    "kernelspec": {
      "name": "python3",
      "display_name": "Python 3"
    },
    "language_info": {
      "name": "python"
    }
  },
  "cells": [
    {
      "cell_type": "code",
      "metadata": {
        "id": "6Vt3n6wmcC8Y"
      },
      "source": [],
      "execution_count": null,
      "outputs": []
    },
    {
      "cell_type": "markdown",
      "metadata": {
        "id": "yTctAo-XDDii"
      },
      "source": [
        "# SVC"
      ]
    },
    {
      "cell_type": "code",
      "metadata": {
        "id": "cZHwSdvQCs5P"
      },
      "source": [
        "import numpy as np\n",
        "from sklearn import datasets\n",
        "iris=datasets.load_iris()\n",
        "x=iris[\"data\"][:,(2,3)] #petal length , petal width\n",
        "y=(iris[\"target\"]==2).astype(np.float64)  # virginica"
      ],
      "execution_count": null,
      "outputs": []
    },
    {
      "cell_type": "code",
      "metadata": {
        "colab": {
          "base_uri": "https://localhost:8080/"
        },
        "id": "XwTjgV52CJhV",
        "outputId": "7f7c6670-1b6f-4cae-bd43-a2657e26302e"
      },
      "source": [
        "from sklearn.svm import SVC\n",
        "svc_clf=SVC(kernel=\"linear\", C=1) #C=float(\"inf\")\n",
        "svc_clf.fit(x,y)"
      ],
      "execution_count": null,
      "outputs": [
        {
          "output_type": "execute_result",
          "data": {
            "text/plain": [
              "SVC(C=1, break_ties=False, cache_size=200, class_weight=None, coef0=0.0,\n",
              "    decision_function_shape='ovr', degree=3, gamma='scale', kernel='linear',\n",
              "    max_iter=-1, probability=False, random_state=None, shrinking=True,\n",
              "    tol=0.001, verbose=False)"
            ]
          },
          "metadata": {},
          "execution_count": 3
        }
      ]
    },
    {
      "cell_type": "markdown",
      "metadata": {
        "id": "WMevCDgHf8GV"
      },
      "source": [
        "Alternatively, you could use the SVC class, using SVC(kernel=\"linear\", C=1), but it\n",
        "is much slower, especially with large training sets, so it is not recommended. Another\n",
        "option is to use the SGDClassifier class, with SGDClassifier(loss=\"hinge\",\n",
        "alpha=1/(m*C)). This applies regular Stochastic Gradient Descent (see Chapter 4) to\n",
        "train a linear SVM classifier. It does not converge as fast as the LinearSVC class, but it\n",
        "can be useful to handle huge datasets that do not fit in memory (out-of-core training),\n",
        "or to handle online classification tasks."
      ]
    },
    {
      "cell_type": "markdown",
      "metadata": {
        "id": "j1nWoTbK4YEf"
      },
      "source": [
        "The function max(0, 1 – t) is called the hinge loss function (represented below). It is\n",
        "equal to 0 when t ≥ 1. Its derivative (slope) is equal to –1 if t < 1 and 0 if t > 1."
      ]
    },
    {
      "cell_type": "code",
      "metadata": {
        "colab": {
          "base_uri": "https://localhost:8080/"
        },
        "id": "rUcKHdlr85DX",
        "outputId": "7bae396e-f1f1-4a5c-bdd6-6c5525141a21"
      },
      "source": [
        "svc_clf"
      ],
      "execution_count": null,
      "outputs": [
        {
          "output_type": "execute_result",
          "data": {
            "text/plain": [
              "SVC(C=1, break_ties=False, cache_size=200, class_weight=None, coef0=0.0,\n",
              "    decision_function_shape='ovr', degree=3, gamma='scale', kernel='linear',\n",
              "    max_iter=-1, probability=False, random_state=None, shrinking=True,\n",
              "    tol=0.001, verbose=False)"
            ]
          },
          "metadata": {},
          "execution_count": 4
        }
      ]
    },
    {
      "cell_type": "code",
      "metadata": {
        "colab": {
          "base_uri": "https://localhost:8080/"
        },
        "id": "KkVf-nGV-7Vy",
        "outputId": "8bcd9005-898c-42ca-8bfe-1a28c77ef7c0"
      },
      "source": [
        "svc_clf.predict([[38,3]])"
      ],
      "execution_count": null,
      "outputs": [
        {
          "output_type": "execute_result",
          "data": {
            "text/plain": [
              "array([1.])"
            ]
          },
          "metadata": {},
          "execution_count": 5
        }
      ]
    },
    {
      "cell_type": "code",
      "metadata": {
        "colab": {
          "base_uri": "https://localhost:8080/"
        },
        "id": "D_326uWuAPIv",
        "outputId": "9e6735f2-59b3-4102-af71-67703b605cdf"
      },
      "source": [
        "print(len(svc_clf.support_vectors_),svc_clf.support_vectors_)"
      ],
      "execution_count": null,
      "outputs": [
        {
          "output_type": "stream",
          "name": "stdout",
          "text": [
            "24 [[4.7 1.4]\n",
            " [4.9 1.5]\n",
            " [4.6 1.5]\n",
            " [4.7 1.6]\n",
            " [4.7 1.4]\n",
            " [4.8 1.8]\n",
            " [4.9 1.5]\n",
            " [4.8 1.4]\n",
            " [5.  1.7]\n",
            " [5.1 1.6]\n",
            " [4.5 1.6]\n",
            " [4.7 1.5]\n",
            " [4.5 1.7]\n",
            " [5.  1.5]\n",
            " [4.9 2. ]\n",
            " [4.9 1.8]\n",
            " [4.8 1.8]\n",
            " [4.9 1.8]\n",
            " [5.1 1.5]\n",
            " [5.6 1.4]\n",
            " [4.8 1.8]\n",
            " [5.1 1.9]\n",
            " [5.  1.9]\n",
            " [5.1 1.8]]\n"
          ]
        }
      ]
    },
    {
      "cell_type": "code",
      "metadata": {
        "colab": {
          "base_uri": "https://localhost:8080/"
        },
        "id": "rEIpA2Z0AnXg",
        "outputId": "692e88d5-bba4-4d3b-b7c4-e8021ccbdf33"
      },
      "source": [
        "print(svc_clf.coef_,svc_clf.intercept_)"
      ],
      "execution_count": null,
      "outputs": [
        {
          "output_type": "stream",
          "name": "stdout",
          "text": [
            "[[2.1829247  2.25365588]] [-14.41486828]\n"
          ]
        }
      ]
    },
    {
      "cell_type": "code",
      "metadata": {
        "colab": {
          "base_uri": "https://localhost:8080/"
        },
        "id": "67AQes1XCLeG",
        "outputId": "918ad708-41f2-4c9f-e97a-ffc535889398"
      },
      "source": [
        "from sklearn.metrics import confusion_matrix,classification_report\n",
        "yp=svc_clf.predict(x)\n",
        "print(confusion_matrix(y,yp))\n",
        "print(classification_report(y,yp))"
      ],
      "execution_count": null,
      "outputs": [
        {
          "output_type": "stream",
          "name": "stdout",
          "text": [
            "[[97  3]\n",
            " [ 2 48]]\n",
            "              precision    recall  f1-score   support\n",
            "\n",
            "         0.0       0.98      0.97      0.97       100\n",
            "         1.0       0.94      0.96      0.95        50\n",
            "\n",
            "    accuracy                           0.97       150\n",
            "   macro avg       0.96      0.96      0.96       150\n",
            "weighted avg       0.97      0.97      0.97       150\n",
            "\n"
          ]
        }
      ]
    },
    {
      "cell_type": "code",
      "metadata": {
        "id": "7ma841E3CL-v"
      },
      "source": [],
      "execution_count": null,
      "outputs": []
    },
    {
      "cell_type": "code",
      "metadata": {
        "id": "FZW6lrphDH33"
      },
      "source": [],
      "execution_count": null,
      "outputs": []
    },
    {
      "cell_type": "markdown",
      "metadata": {
        "id": "eX-XRNlDDJeq"
      },
      "source": [
        "# LinearSVC"
      ]
    },
    {
      "cell_type": "code",
      "metadata": {
        "id": "YgAZvNF_cD_T"
      },
      "source": [
        "import numpy as np\n",
        "from sklearn import datasets\n",
        "from sklearn.pipeline import Pipeline\n",
        "from sklearn.preprocessing import StandardScaler\n",
        "from sklearn.svm import LinearSVC"
      ],
      "execution_count": null,
      "outputs": []
    },
    {
      "cell_type": "code",
      "metadata": {
        "id": "Iz-L5KrLcEnO"
      },
      "source": [
        "iris=datasets.load_iris()\n",
        "x=iris[\"data\"][:,(2,3)] #petal length , petal width\n",
        "y=(iris[\"target\"]==2).astype(np.float64)  # virginica"
      ],
      "execution_count": null,
      "outputs": []
    },
    {
      "cell_type": "code",
      "metadata": {
        "colab": {
          "base_uri": "https://localhost:8080/"
        },
        "id": "Ie3bp2WycEs0",
        "outputId": "3c845e99-3dd8-4369-f128-0a229f7e8d76"
      },
      "source": [
        "x.shape"
      ],
      "execution_count": null,
      "outputs": [
        {
          "output_type": "execute_result",
          "data": {
            "text/plain": [
              "(150, 2)"
            ]
          },
          "metadata": {},
          "execution_count": 12
        }
      ]
    },
    {
      "cell_type": "code",
      "metadata": {
        "colab": {
          "base_uri": "https://localhost:8080/"
        },
        "id": "ESyfk9jAcEye",
        "outputId": "9c032b50-ad3b-4e16-d9b1-60bf0f53569b"
      },
      "source": [
        "y.shape"
      ],
      "execution_count": null,
      "outputs": [
        {
          "output_type": "execute_result",
          "data": {
            "text/plain": [
              "(150,)"
            ]
          },
          "metadata": {},
          "execution_count": 13
        }
      ]
    },
    {
      "cell_type": "code",
      "metadata": {
        "id": "XXSLLJ4EcE3a"
      },
      "source": [
        "svm_clf=Pipeline((\n",
        "                (\"scaler\",StandardScaler()),\n",
        "                 (\"linear_svc\",LinearSVC(C=1,loss=\"hinge\")),\n",
        "                 ))"
      ],
      "execution_count": null,
      "outputs": []
    },
    {
      "cell_type": "code",
      "metadata": {
        "colab": {
          "base_uri": "https://localhost:8080/"
        },
        "id": "5mXdANF8cE9C",
        "outputId": "95eeab87-0425-4ea8-ee9d-0d988bb62819"
      },
      "source": [
        "print(x)"
      ],
      "execution_count": null,
      "outputs": [
        {
          "output_type": "stream",
          "name": "stdout",
          "text": [
            "[[1.4 0.2]\n",
            " [1.4 0.2]\n",
            " [1.3 0.2]\n",
            " [1.5 0.2]\n",
            " [1.4 0.2]\n",
            " [1.7 0.4]\n",
            " [1.4 0.3]\n",
            " [1.5 0.2]\n",
            " [1.4 0.2]\n",
            " [1.5 0.1]\n",
            " [1.5 0.2]\n",
            " [1.6 0.2]\n",
            " [1.4 0.1]\n",
            " [1.1 0.1]\n",
            " [1.2 0.2]\n",
            " [1.5 0.4]\n",
            " [1.3 0.4]\n",
            " [1.4 0.3]\n",
            " [1.7 0.3]\n",
            " [1.5 0.3]\n",
            " [1.7 0.2]\n",
            " [1.5 0.4]\n",
            " [1.  0.2]\n",
            " [1.7 0.5]\n",
            " [1.9 0.2]\n",
            " [1.6 0.2]\n",
            " [1.6 0.4]\n",
            " [1.5 0.2]\n",
            " [1.4 0.2]\n",
            " [1.6 0.2]\n",
            " [1.6 0.2]\n",
            " [1.5 0.4]\n",
            " [1.5 0.1]\n",
            " [1.4 0.2]\n",
            " [1.5 0.2]\n",
            " [1.2 0.2]\n",
            " [1.3 0.2]\n",
            " [1.4 0.1]\n",
            " [1.3 0.2]\n",
            " [1.5 0.2]\n",
            " [1.3 0.3]\n",
            " [1.3 0.3]\n",
            " [1.3 0.2]\n",
            " [1.6 0.6]\n",
            " [1.9 0.4]\n",
            " [1.4 0.3]\n",
            " [1.6 0.2]\n",
            " [1.4 0.2]\n",
            " [1.5 0.2]\n",
            " [1.4 0.2]\n",
            " [4.7 1.4]\n",
            " [4.5 1.5]\n",
            " [4.9 1.5]\n",
            " [4.  1.3]\n",
            " [4.6 1.5]\n",
            " [4.5 1.3]\n",
            " [4.7 1.6]\n",
            " [3.3 1. ]\n",
            " [4.6 1.3]\n",
            " [3.9 1.4]\n",
            " [3.5 1. ]\n",
            " [4.2 1.5]\n",
            " [4.  1. ]\n",
            " [4.7 1.4]\n",
            " [3.6 1.3]\n",
            " [4.4 1.4]\n",
            " [4.5 1.5]\n",
            " [4.1 1. ]\n",
            " [4.5 1.5]\n",
            " [3.9 1.1]\n",
            " [4.8 1.8]\n",
            " [4.  1.3]\n",
            " [4.9 1.5]\n",
            " [4.7 1.2]\n",
            " [4.3 1.3]\n",
            " [4.4 1.4]\n",
            " [4.8 1.4]\n",
            " [5.  1.7]\n",
            " [4.5 1.5]\n",
            " [3.5 1. ]\n",
            " [3.8 1.1]\n",
            " [3.7 1. ]\n",
            " [3.9 1.2]\n",
            " [5.1 1.6]\n",
            " [4.5 1.5]\n",
            " [4.5 1.6]\n",
            " [4.7 1.5]\n",
            " [4.4 1.3]\n",
            " [4.1 1.3]\n",
            " [4.  1.3]\n",
            " [4.4 1.2]\n",
            " [4.6 1.4]\n",
            " [4.  1.2]\n",
            " [3.3 1. ]\n",
            " [4.2 1.3]\n",
            " [4.2 1.2]\n",
            " [4.2 1.3]\n",
            " [4.3 1.3]\n",
            " [3.  1.1]\n",
            " [4.1 1.3]\n",
            " [6.  2.5]\n",
            " [5.1 1.9]\n",
            " [5.9 2.1]\n",
            " [5.6 1.8]\n",
            " [5.8 2.2]\n",
            " [6.6 2.1]\n",
            " [4.5 1.7]\n",
            " [6.3 1.8]\n",
            " [5.8 1.8]\n",
            " [6.1 2.5]\n",
            " [5.1 2. ]\n",
            " [5.3 1.9]\n",
            " [5.5 2.1]\n",
            " [5.  2. ]\n",
            " [5.1 2.4]\n",
            " [5.3 2.3]\n",
            " [5.5 1.8]\n",
            " [6.7 2.2]\n",
            " [6.9 2.3]\n",
            " [5.  1.5]\n",
            " [5.7 2.3]\n",
            " [4.9 2. ]\n",
            " [6.7 2. ]\n",
            " [4.9 1.8]\n",
            " [5.7 2.1]\n",
            " [6.  1.8]\n",
            " [4.8 1.8]\n",
            " [4.9 1.8]\n",
            " [5.6 2.1]\n",
            " [5.8 1.6]\n",
            " [6.1 1.9]\n",
            " [6.4 2. ]\n",
            " [5.6 2.2]\n",
            " [5.1 1.5]\n",
            " [5.6 1.4]\n",
            " [6.1 2.3]\n",
            " [5.6 2.4]\n",
            " [5.5 1.8]\n",
            " [4.8 1.8]\n",
            " [5.4 2.1]\n",
            " [5.6 2.4]\n",
            " [5.1 2.3]\n",
            " [5.1 1.9]\n",
            " [5.9 2.3]\n",
            " [5.7 2.5]\n",
            " [5.2 2.3]\n",
            " [5.  1.9]\n",
            " [5.2 2. ]\n",
            " [5.4 2.3]\n",
            " [5.1 1.8]]\n"
          ]
        }
      ]
    },
    {
      "cell_type": "code",
      "metadata": {
        "colab": {
          "base_uri": "https://localhost:8080/"
        },
        "id": "5lTV6AMRfG_n",
        "outputId": "e0572148-ee9d-450b-e681-b306bc6a2956"
      },
      "source": [
        "svm_clf.fit(x,y)"
      ],
      "execution_count": null,
      "outputs": [
        {
          "output_type": "execute_result",
          "data": {
            "text/plain": [
              "Pipeline(memory=None,\n",
              "         steps=[('scaler',\n",
              "                 StandardScaler(copy=True, with_mean=True, with_std=True)),\n",
              "                ('linear_svc',\n",
              "                 LinearSVC(C=1, class_weight=None, dual=True,\n",
              "                           fit_intercept=True, intercept_scaling=1,\n",
              "                           loss='hinge', max_iter=1000, multi_class='ovr',\n",
              "                           penalty='l2', random_state=None, tol=0.0001,\n",
              "                           verbose=0))],\n",
              "         verbose=False)"
            ]
          },
          "metadata": {},
          "execution_count": 16
        }
      ]
    },
    {
      "cell_type": "code",
      "metadata": {
        "colab": {
          "base_uri": "https://localhost:8080/"
        },
        "id": "ZsrbXt9m_q5P",
        "outputId": "9a39c9ce-598f-4b7e-ba85-fb690c9d48ae"
      },
      "source": [
        "svm_clf.predict([[38,3]])"
      ],
      "execution_count": null,
      "outputs": [
        {
          "output_type": "execute_result",
          "data": {
            "text/plain": [
              "array([1.])"
            ]
          },
          "metadata": {},
          "execution_count": 17
        }
      ]
    },
    {
      "cell_type": "code",
      "metadata": {
        "colab": {
          "base_uri": "https://localhost:8080/",
          "height": 162
        },
        "id": "mzlTM19bL0J9",
        "outputId": "0c08b7b7-aa78-48d2-a227-03f4cc9a0c8a"
      },
      "source": [
        "print(len(svm_clf.support_vectors_),svm_clf.support_vectors_)"
      ],
      "execution_count": null,
      "outputs": [
        {
          "output_type": "error",
          "ename": "AttributeError",
          "evalue": "ignored",
          "traceback": [
            "\u001b[0;31m---------------------------------------------------------------------------\u001b[0m",
            "\u001b[0;31mAttributeError\u001b[0m                            Traceback (most recent call last)",
            "\u001b[0;32m<ipython-input-27-0dd9e58b5511>\u001b[0m in \u001b[0;36m<module>\u001b[0;34m()\u001b[0m\n\u001b[0;32m----> 1\u001b[0;31m \u001b[0mprint\u001b[0m\u001b[0;34m(\u001b[0m\u001b[0mlen\u001b[0m\u001b[0;34m(\u001b[0m\u001b[0msvm_clf\u001b[0m\u001b[0;34m.\u001b[0m\u001b[0msupport_vectors_\u001b[0m\u001b[0;34m)\u001b[0m\u001b[0;34m,\u001b[0m\u001b[0msvm_clf\u001b[0m\u001b[0;34m.\u001b[0m\u001b[0msupport_vectors_\u001b[0m\u001b[0;34m)\u001b[0m\u001b[0;34m\u001b[0m\u001b[0;34m\u001b[0m\u001b[0m\n\u001b[0m",
            "\u001b[0;31mAttributeError\u001b[0m: 'Pipeline' object has no attribute 'support_vectors_'"
          ]
        }
      ]
    },
    {
      "cell_type": "markdown",
      "metadata": {
        "id": "PyBZYaAGDRRN"
      },
      "source": [
        "# Scaling and without scaling using SVC and LinearSVC"
      ]
    },
    {
      "cell_type": "code",
      "metadata": {
        "colab": {
          "base_uri": "https://localhost:8080/"
        },
        "id": "ohocu6cJH2uh",
        "outputId": "46211081-6719-4bf0-c30c-7d877ae7e694"
      },
      "source": [
        "svm_clf_nos=LinearSVC()#LinearSVC()\n",
        "svm_clf_nos.fit(x,y)"
      ],
      "execution_count": null,
      "outputs": [
        {
          "output_type": "execute_result",
          "data": {
            "text/plain": [
              "LinearSVC(C=1.0, class_weight=None, dual=True, fit_intercept=True,\n",
              "          intercept_scaling=1, loss='squared_hinge', max_iter=1000,\n",
              "          multi_class='ovr', penalty='l2', random_state=None, tol=0.0001,\n",
              "          verbose=0)"
            ]
          },
          "metadata": {},
          "execution_count": 28
        }
      ]
    },
    {
      "cell_type": "code",
      "metadata": {
        "id": "l-rCKlvkBAAz"
      },
      "source": [
        "from sklearn.preprocessing import StandardScaler\n",
        "scale=StandardScaler()\n",
        "xscale=scale.fit_transform(x)"
      ],
      "execution_count": null,
      "outputs": []
    },
    {
      "cell_type": "code",
      "metadata": {
        "colab": {
          "base_uri": "https://localhost:8080/"
        },
        "id": "c7i-TDtwBAj7",
        "outputId": "900ac478-6b39-4810-f94e-be1ab1992e37"
      },
      "source": [
        "xscale"
      ],
      "execution_count": null,
      "outputs": [
        {
          "output_type": "execute_result",
          "data": {
            "text/plain": [
              "array([[-1.34022653e+00, -1.31544430e+00],\n",
              "       [-1.34022653e+00, -1.31544430e+00],\n",
              "       [-1.39706395e+00, -1.31544430e+00],\n",
              "       [-1.28338910e+00, -1.31544430e+00],\n",
              "       [-1.34022653e+00, -1.31544430e+00],\n",
              "       [-1.16971425e+00, -1.05217993e+00],\n",
              "       [-1.34022653e+00, -1.18381211e+00],\n",
              "       [-1.28338910e+00, -1.31544430e+00],\n",
              "       [-1.34022653e+00, -1.31544430e+00],\n",
              "       [-1.28338910e+00, -1.44707648e+00],\n",
              "       [-1.28338910e+00, -1.31544430e+00],\n",
              "       [-1.22655167e+00, -1.31544430e+00],\n",
              "       [-1.34022653e+00, -1.44707648e+00],\n",
              "       [-1.51073881e+00, -1.44707648e+00],\n",
              "       [-1.45390138e+00, -1.31544430e+00],\n",
              "       [-1.28338910e+00, -1.05217993e+00],\n",
              "       [-1.39706395e+00, -1.05217993e+00],\n",
              "       [-1.34022653e+00, -1.18381211e+00],\n",
              "       [-1.16971425e+00, -1.18381211e+00],\n",
              "       [-1.28338910e+00, -1.18381211e+00],\n",
              "       [-1.16971425e+00, -1.31544430e+00],\n",
              "       [-1.28338910e+00, -1.05217993e+00],\n",
              "       [-1.56757623e+00, -1.31544430e+00],\n",
              "       [-1.16971425e+00, -9.20547742e-01],\n",
              "       [-1.05603939e+00, -1.31544430e+00],\n",
              "       [-1.22655167e+00, -1.31544430e+00],\n",
              "       [-1.22655167e+00, -1.05217993e+00],\n",
              "       [-1.28338910e+00, -1.31544430e+00],\n",
              "       [-1.34022653e+00, -1.31544430e+00],\n",
              "       [-1.22655167e+00, -1.31544430e+00],\n",
              "       [-1.22655167e+00, -1.31544430e+00],\n",
              "       [-1.28338910e+00, -1.05217993e+00],\n",
              "       [-1.28338910e+00, -1.44707648e+00],\n",
              "       [-1.34022653e+00, -1.31544430e+00],\n",
              "       [-1.28338910e+00, -1.31544430e+00],\n",
              "       [-1.45390138e+00, -1.31544430e+00],\n",
              "       [-1.39706395e+00, -1.31544430e+00],\n",
              "       [-1.34022653e+00, -1.44707648e+00],\n",
              "       [-1.39706395e+00, -1.31544430e+00],\n",
              "       [-1.28338910e+00, -1.31544430e+00],\n",
              "       [-1.39706395e+00, -1.18381211e+00],\n",
              "       [-1.39706395e+00, -1.18381211e+00],\n",
              "       [-1.39706395e+00, -1.31544430e+00],\n",
              "       [-1.22655167e+00, -7.88915558e-01],\n",
              "       [-1.05603939e+00, -1.05217993e+00],\n",
              "       [-1.34022653e+00, -1.18381211e+00],\n",
              "       [-1.22655167e+00, -1.31544430e+00],\n",
              "       [-1.34022653e+00, -1.31544430e+00],\n",
              "       [-1.28338910e+00, -1.31544430e+00],\n",
              "       [-1.34022653e+00, -1.31544430e+00],\n",
              "       [ 5.35408562e-01,  2.64141916e-01],\n",
              "       [ 4.21733708e-01,  3.95774101e-01],\n",
              "       [ 6.49083415e-01,  3.95774101e-01],\n",
              "       [ 1.37546573e-01,  1.32509732e-01],\n",
              "       [ 4.78571135e-01,  3.95774101e-01],\n",
              "       [ 4.21733708e-01,  1.32509732e-01],\n",
              "       [ 5.35408562e-01,  5.27406285e-01],\n",
              "       [-2.60315415e-01, -2.62386821e-01],\n",
              "       [ 4.78571135e-01,  1.32509732e-01],\n",
              "       [ 8.07091462e-02,  2.64141916e-01],\n",
              "       [-1.46640561e-01, -2.62386821e-01],\n",
              "       [ 2.51221427e-01,  3.95774101e-01],\n",
              "       [ 1.37546573e-01, -2.62386821e-01],\n",
              "       [ 5.35408562e-01,  2.64141916e-01],\n",
              "       [-8.98031345e-02,  1.32509732e-01],\n",
              "       [ 3.64896281e-01,  2.64141916e-01],\n",
              "       [ 4.21733708e-01,  3.95774101e-01],\n",
              "       [ 1.94384000e-01, -2.62386821e-01],\n",
              "       [ 4.21733708e-01,  3.95774101e-01],\n",
              "       [ 8.07091462e-02, -1.30754636e-01],\n",
              "       [ 5.92245988e-01,  7.90670654e-01],\n",
              "       [ 1.37546573e-01,  1.32509732e-01],\n",
              "       [ 6.49083415e-01,  3.95774101e-01],\n",
              "       [ 5.35408562e-01,  8.77547895e-04],\n",
              "       [ 3.08058854e-01,  1.32509732e-01],\n",
              "       [ 3.64896281e-01,  2.64141916e-01],\n",
              "       [ 5.92245988e-01,  2.64141916e-01],\n",
              "       [ 7.05920842e-01,  6.59038469e-01],\n",
              "       [ 4.21733708e-01,  3.95774101e-01],\n",
              "       [-1.46640561e-01, -2.62386821e-01],\n",
              "       [ 2.38717193e-02, -1.30754636e-01],\n",
              "       [-3.29657076e-02, -2.62386821e-01],\n",
              "       [ 8.07091462e-02,  8.77547895e-04],\n",
              "       [ 7.62758269e-01,  5.27406285e-01],\n",
              "       [ 4.21733708e-01,  3.95774101e-01],\n",
              "       [ 4.21733708e-01,  5.27406285e-01],\n",
              "       [ 5.35408562e-01,  3.95774101e-01],\n",
              "       [ 3.64896281e-01,  1.32509732e-01],\n",
              "       [ 1.94384000e-01,  1.32509732e-01],\n",
              "       [ 1.37546573e-01,  1.32509732e-01],\n",
              "       [ 3.64896281e-01,  8.77547895e-04],\n",
              "       [ 4.78571135e-01,  2.64141916e-01],\n",
              "       [ 1.37546573e-01,  8.77547895e-04],\n",
              "       [-2.60315415e-01, -2.62386821e-01],\n",
              "       [ 2.51221427e-01,  1.32509732e-01],\n",
              "       [ 2.51221427e-01,  8.77547895e-04],\n",
              "       [ 2.51221427e-01,  1.32509732e-01],\n",
              "       [ 3.08058854e-01,  1.32509732e-01],\n",
              "       [-4.30827696e-01, -1.30754636e-01],\n",
              "       [ 1.94384000e-01,  1.32509732e-01],\n",
              "       [ 1.27429511e+00,  1.71209594e+00],\n",
              "       [ 7.62758269e-01,  9.22302838e-01],\n",
              "       [ 1.21745768e+00,  1.18556721e+00],\n",
              "       [ 1.04694540e+00,  7.90670654e-01],\n",
              "       [ 1.16062026e+00,  1.31719939e+00],\n",
              "       [ 1.61531967e+00,  1.18556721e+00],\n",
              "       [ 4.21733708e-01,  6.59038469e-01],\n",
              "       [ 1.44480739e+00,  7.90670654e-01],\n",
              "       [ 1.16062026e+00,  7.90670654e-01],\n",
              "       [ 1.33113254e+00,  1.71209594e+00],\n",
              "       [ 7.62758269e-01,  1.05393502e+00],\n",
              "       [ 8.76433123e-01,  9.22302838e-01],\n",
              "       [ 9.90107977e-01,  1.18556721e+00],\n",
              "       [ 7.05920842e-01,  1.05393502e+00],\n",
              "       [ 7.62758269e-01,  1.58046376e+00],\n",
              "       [ 8.76433123e-01,  1.44883158e+00],\n",
              "       [ 9.90107977e-01,  7.90670654e-01],\n",
              "       [ 1.67215710e+00,  1.31719939e+00],\n",
              "       [ 1.78583195e+00,  1.44883158e+00],\n",
              "       [ 7.05920842e-01,  3.95774101e-01],\n",
              "       [ 1.10378283e+00,  1.44883158e+00],\n",
              "       [ 6.49083415e-01,  1.05393502e+00],\n",
              "       [ 1.67215710e+00,  1.05393502e+00],\n",
              "       [ 6.49083415e-01,  7.90670654e-01],\n",
              "       [ 1.10378283e+00,  1.18556721e+00],\n",
              "       [ 1.27429511e+00,  7.90670654e-01],\n",
              "       [ 5.92245988e-01,  7.90670654e-01],\n",
              "       [ 6.49083415e-01,  7.90670654e-01],\n",
              "       [ 1.04694540e+00,  1.18556721e+00],\n",
              "       [ 1.16062026e+00,  5.27406285e-01],\n",
              "       [ 1.33113254e+00,  9.22302838e-01],\n",
              "       [ 1.50164482e+00,  1.05393502e+00],\n",
              "       [ 1.04694540e+00,  1.31719939e+00],\n",
              "       [ 7.62758269e-01,  3.95774101e-01],\n",
              "       [ 1.04694540e+00,  2.64141916e-01],\n",
              "       [ 1.33113254e+00,  1.44883158e+00],\n",
              "       [ 1.04694540e+00,  1.58046376e+00],\n",
              "       [ 9.90107977e-01,  7.90670654e-01],\n",
              "       [ 5.92245988e-01,  7.90670654e-01],\n",
              "       [ 9.33270550e-01,  1.18556721e+00],\n",
              "       [ 1.04694540e+00,  1.58046376e+00],\n",
              "       [ 7.62758269e-01,  1.44883158e+00],\n",
              "       [ 7.62758269e-01,  9.22302838e-01],\n",
              "       [ 1.21745768e+00,  1.44883158e+00],\n",
              "       [ 1.10378283e+00,  1.71209594e+00],\n",
              "       [ 8.19595696e-01,  1.44883158e+00],\n",
              "       [ 7.05920842e-01,  9.22302838e-01],\n",
              "       [ 8.19595696e-01,  1.05393502e+00],\n",
              "       [ 9.33270550e-01,  1.44883158e+00],\n",
              "       [ 7.62758269e-01,  7.90670654e-01]])"
            ]
          },
          "metadata": {},
          "execution_count": 21
        }
      ]
    },
    {
      "cell_type": "code",
      "metadata": {
        "colab": {
          "base_uri": "https://localhost:8080/"
        },
        "id": "BugGGrM-BAqe",
        "outputId": "13f3872b-70eb-44b3-b822-a20e0adf1495"
      },
      "source": [
        "svm_clf_s=LinearSVC()#LinearSVC()\n",
        "svm_clf_s.fit(xscale,y)"
      ],
      "execution_count": null,
      "outputs": [
        {
          "output_type": "execute_result",
          "data": {
            "text/plain": [
              "LinearSVC(C=1.0, class_weight=None, dual=True, fit_intercept=True,\n",
              "          intercept_scaling=1, loss='squared_hinge', max_iter=1000,\n",
              "          multi_class='ovr', penalty='l2', random_state=None, tol=0.0001,\n",
              "          verbose=0)"
            ]
          },
          "metadata": {},
          "execution_count": 30
        }
      ]
    },
    {
      "cell_type": "code",
      "metadata": {
        "id": "5E3LxZz1BA96"
      },
      "source": [],
      "execution_count": null,
      "outputs": []
    },
    {
      "cell_type": "code",
      "metadata": {
        "id": "6CLOglJOBBEL"
      },
      "source": [],
      "execution_count": null,
      "outputs": []
    },
    {
      "cell_type": "markdown",
      "metadata": {
        "id": "VtgSZdMVDa0u"
      },
      "source": [
        "# Accuracy"
      ]
    },
    {
      "cell_type": "code",
      "metadata": {
        "colab": {
          "base_uri": "https://localhost:8080/"
        },
        "id": "ejBFusmzenIw",
        "outputId": "cf59abbd-324d-4fdf-e524-562970a81ce8"
      },
      "source": [
        "from sklearn.metrics import confusion_matrix\n",
        "from sklearn.metrics import classification_report\n",
        "ypred=svm_clf_nos.predict(x)\n",
        "print(confusion_matrix(y,ypred))\n",
        "print(classification_report(y,ypred))"
      ],
      "execution_count": null,
      "outputs": [
        {
          "output_type": "stream",
          "name": "stdout",
          "text": [
            "[[98  2]\n",
            " [ 4 46]]\n",
            "              precision    recall  f1-score   support\n",
            "\n",
            "         0.0       0.96      0.98      0.97       100\n",
            "         1.0       0.96      0.92      0.94        50\n",
            "\n",
            "    accuracy                           0.96       150\n",
            "   macro avg       0.96      0.95      0.95       150\n",
            "weighted avg       0.96      0.96      0.96       150\n",
            "\n"
          ]
        }
      ]
    },
    {
      "cell_type": "code",
      "metadata": {
        "colab": {
          "base_uri": "https://localhost:8080/"
        },
        "id": "wiWOvQjTEXl9",
        "outputId": "444da18c-ebc9-4666-9406-21be7e8927cc"
      },
      "source": [
        "from sklearn.metrics import confusion_matrix\n",
        "from sklearn.metrics import classification_report\n",
        "ypred=svm_clf_s.predict(xscale)\n",
        "print(confusion_matrix(y,ypred))\n",
        "print(classification_report(y,ypred))"
      ],
      "execution_count": null,
      "outputs": [
        {
          "output_type": "stream",
          "name": "stdout",
          "text": [
            "[[97  3]\n",
            " [ 3 47]]\n",
            "              precision    recall  f1-score   support\n",
            "\n",
            "         0.0       0.97      0.97      0.97       100\n",
            "         1.0       0.94      0.94      0.94        50\n",
            "\n",
            "    accuracy                           0.96       150\n",
            "   macro avg       0.95      0.95      0.95       150\n",
            "weighted avg       0.96      0.96      0.96       150\n",
            "\n"
          ]
        }
      ]
    },
    {
      "cell_type": "code",
      "metadata": {
        "colab": {
          "base_uri": "https://localhost:8080/"
        },
        "id": "OkhqvHOBIdyN",
        "outputId": "e79d47c7-0856-4978-9a6e-83724a647e13"
      },
      "source": [
        "print(svm_clf_nos.get_params())"
      ],
      "execution_count": null,
      "outputs": [
        {
          "output_type": "stream",
          "name": "stdout",
          "text": [
            "{'C': 1.0, 'class_weight': None, 'dual': True, 'fit_intercept': True, 'intercept_scaling': 1, 'loss': 'squared_hinge', 'max_iter': 1000, 'multi_class': 'ovr', 'penalty': 'l2', 'random_state': None, 'tol': 0.0001, 'verbose': 0}\n"
          ]
        }
      ]
    },
    {
      "cell_type": "code",
      "metadata": {
        "colab": {
          "base_uri": "https://localhost:8080/",
          "height": 178
        },
        "id": "dU-emYaZMOQT",
        "outputId": "45aa960a-528f-4ad2-af6f-51fd0ccb506c"
      },
      "source": [
        "print(len(svm_clf_nos.support_vectors_))\n",
        "print(len(svm_clf_s.support_vectors_))"
      ],
      "execution_count": null,
      "outputs": [
        {
          "output_type": "error",
          "ename": "AttributeError",
          "evalue": "ignored",
          "traceback": [
            "\u001b[0;31m---------------------------------------------------------------------------\u001b[0m",
            "\u001b[0;31mAttributeError\u001b[0m                            Traceback (most recent call last)",
            "\u001b[0;32m<ipython-input-34-bfa20477a74e>\u001b[0m in \u001b[0;36m<module>\u001b[0;34m()\u001b[0m\n\u001b[0;32m----> 1\u001b[0;31m \u001b[0mprint\u001b[0m\u001b[0;34m(\u001b[0m\u001b[0mlen\u001b[0m\u001b[0;34m(\u001b[0m\u001b[0msvm_clf_nos\u001b[0m\u001b[0;34m.\u001b[0m\u001b[0msupport_vectors_\u001b[0m\u001b[0;34m)\u001b[0m\u001b[0;34m)\u001b[0m\u001b[0;34m\u001b[0m\u001b[0;34m\u001b[0m\u001b[0m\n\u001b[0m\u001b[1;32m      2\u001b[0m \u001b[0mprint\u001b[0m\u001b[0;34m(\u001b[0m\u001b[0mlen\u001b[0m\u001b[0;34m(\u001b[0m\u001b[0msvm_clf_s\u001b[0m\u001b[0;34m.\u001b[0m\u001b[0msupport_vectors_\u001b[0m\u001b[0;34m)\u001b[0m\u001b[0;34m)\u001b[0m\u001b[0;34m\u001b[0m\u001b[0;34m\u001b[0m\u001b[0m\n",
            "\u001b[0;31mAttributeError\u001b[0m: 'LinearSVC' object has no attribute 'support_vectors_'"
          ]
        }
      ]
    },
    {
      "cell_type": "code",
      "metadata": {
        "id": "ylkKJrV7NVLu"
      },
      "source": [],
      "execution_count": null,
      "outputs": []
    },
    {
      "cell_type": "markdown",
      "metadata": {
        "id": "QPHTOHDJNWED"
      },
      "source": [
        "# Support vectors from LinearSVC"
      ]
    },
    {
      "cell_type": "code",
      "metadata": {
        "id": "sowS4V5PKrhT"
      },
      "source": [
        "decision_function = svm_clf.decision_function(x)\n",
        "# we can also calculate the decision function manually\n",
        "# decision_function = np.dot(X, clf.coef_[0]) + clf.intercept_[0]\n",
        "# The support vectors are the samples that lie within the margin\n",
        "# boundaries, whose size is conventionally constrained to 1\n",
        "support_vector_indices = np.where(\n",
        "        np.abs(decision_function) <= 1 + 1e-15)[0]\n",
        "support_vectors = x[support_vector_indices]"
      ],
      "execution_count": null,
      "outputs": []
    },
    {
      "cell_type": "code",
      "metadata": {
        "colab": {
          "base_uri": "https://localhost:8080/"
        },
        "id": "HozdMJcjK7lu",
        "outputId": "7ddb87d9-762b-4254-9a67-b74106d028a5"
      },
      "source": [
        "print(len(support_vectors),support_vectors)"
      ],
      "execution_count": null,
      "outputs": [
        {
          "output_type": "stream",
          "name": "stdout",
          "text": [
            "30 [[4.7 1.4]\n",
            " [4.5 1.5]\n",
            " [4.9 1.5]\n",
            " [4.6 1.5]\n",
            " [4.7 1.6]\n",
            " [4.7 1.4]\n",
            " [4.5 1.5]\n",
            " [4.5 1.5]\n",
            " [4.8 1.8]\n",
            " [4.9 1.5]\n",
            " [4.8 1.4]\n",
            " [5.  1.7]\n",
            " [4.5 1.5]\n",
            " [5.1 1.6]\n",
            " [4.5 1.5]\n",
            " [4.5 1.6]\n",
            " [4.7 1.5]\n",
            " [5.1 1.9]\n",
            " [4.5 1.7]\n",
            " [5.  1.5]\n",
            " [4.9 1.8]\n",
            " [4.8 1.8]\n",
            " [4.9 1.8]\n",
            " [5.8 1.6]\n",
            " [5.1 1.5]\n",
            " [5.6 1.4]\n",
            " [4.8 1.8]\n",
            " [5.1 1.9]\n",
            " [5.  1.9]\n",
            " [5.1 1.8]]\n"
          ]
        }
      ]
    },
    {
      "cell_type": "code",
      "metadata": {
        "colab": {
          "base_uri": "https://localhost:8080/"
        },
        "id": "i6F5OoqdLMsl",
        "outputId": "bef5a656-f368-41f9-9f6d-c3ef4f558790"
      },
      "source": [
        "decision_function = svm_clf_s.decision_function(xscale)\n",
        "# we can also calculate the decision function manually\n",
        "# decision_function = np.dot(X, clf.coef_[0]) + clf.intercept_[0]\n",
        "# The support vectors are the samples that lie within the margin\n",
        "# boundaries, whose size is conventionally constrained to 1\n",
        "support_vector_indices = np.where(\n",
        "        np.abs(decision_function) <= 1 + 1e-15)[0]\n",
        "support_vectors = x[support_vector_indices]\n",
        "print(len(support_vectors))"
      ],
      "execution_count": null,
      "outputs": [
        {
          "output_type": "stream",
          "name": "stdout",
          "text": [
            "41\n"
          ]
        }
      ]
    },
    {
      "cell_type": "code",
      "metadata": {
        "colab": {
          "base_uri": "https://localhost:8080/"
        },
        "id": "QLfmOGSbN6Dq",
        "outputId": "fde65ddc-b81f-48fe-8b82-0985398ed8b4"
      },
      "source": [
        "support_vectors"
      ],
      "execution_count": null,
      "outputs": [
        {
          "output_type": "execute_result",
          "data": {
            "text/plain": [
              "array([[4.7, 1.4],\n",
              "       [4.5, 1.5],\n",
              "       [4.9, 1.5],\n",
              "       [4.6, 1.5],\n",
              "       [4.7, 1.6],\n",
              "       [4.2, 1.5],\n",
              "       [4.7, 1.4],\n",
              "       [4.4, 1.4],\n",
              "       [4.5, 1.5],\n",
              "       [4.5, 1.5],\n",
              "       [4.8, 1.8],\n",
              "       [4.9, 1.5],\n",
              "       [4.4, 1.4],\n",
              "       [4.8, 1.4],\n",
              "       [5. , 1.7],\n",
              "       [4.5, 1.5],\n",
              "       [5.1, 1.6],\n",
              "       [4.5, 1.5],\n",
              "       [4.5, 1.6],\n",
              "       [4.7, 1.5],\n",
              "       [4.6, 1.4],\n",
              "       [5.1, 1.9],\n",
              "       [5.6, 1.8],\n",
              "       [4.5, 1.7],\n",
              "       [5.1, 2. ],\n",
              "       [5.3, 1.9],\n",
              "       [5. , 2. ],\n",
              "       [5.5, 1.8],\n",
              "       [5. , 1.5],\n",
              "       [4.9, 2. ],\n",
              "       [4.9, 1.8],\n",
              "       [4.8, 1.8],\n",
              "       [4.9, 1.8],\n",
              "       [5.8, 1.6],\n",
              "       [5.1, 1.5],\n",
              "       [5.6, 1.4],\n",
              "       [5.5, 1.8],\n",
              "       [4.8, 1.8],\n",
              "       [5.1, 1.9],\n",
              "       [5. , 1.9],\n",
              "       [5.1, 1.8]])"
            ]
          },
          "metadata": {},
          "execution_count": 39
        }
      ]
    },
    {
      "cell_type": "code",
      "metadata": {
        "colab": {
          "base_uri": "https://localhost:8080/"
        },
        "id": "WAMbytbULhJ4",
        "outputId": "0564a4fd-6122-43b7-cdf7-3bda45018c08"
      },
      "source": [
        "print(len(decision_function),decision_function)"
      ],
      "execution_count": null,
      "outputs": [
        {
          "output_type": "stream",
          "name": "stdout",
          "text": [
            "150 [-6.2561045  -6.2561045  -6.34261324 -6.16959576 -6.2561045  -5.54712729\n",
            " -6.031379   -6.16959576 -6.2561045  -6.39432126 -6.16959576 -6.08308702\n",
            " -6.48083    -6.74035621 -6.42912198 -5.72014477 -5.89316225 -6.031379\n",
            " -5.77185279 -5.94487026 -5.99657828 -5.72014477 -6.60213946 -5.32240179\n",
            " -5.8235608  -6.08308702 -5.63363603 -6.16959576 -6.2561045  -6.08308702\n",
            " -6.08308702 -5.72014477 -6.39432126 -6.2561045  -6.16959576 -6.42912198\n",
            " -6.34261324 -6.48083    -6.34261324 -6.16959576 -6.11788774 -6.11788774\n",
            " -6.34261324 -5.18418504 -5.37410981 -6.031379   -6.08308702 -6.2561045\n",
            " -6.16959576 -6.2561045  -0.70461015 -0.65290214 -0.30686718 -1.53489683\n",
            " -0.5663934  -1.10235313 -0.25515916 -2.81463449 -1.01584439 -1.39668007\n",
            " -2.64161701 -0.91242836 -2.20907331 -0.70461015 -1.88093178 -0.96413637\n",
            " -0.65290214 -2.12256457 -0.65290214 -2.07085656  0.28080057 -1.53489683\n",
            " -0.30686718 -1.15406115 -1.27537061 -0.96413637 -0.61810142  0.22909255\n",
            " -0.65290214 -2.64161701 -2.1573653  -2.46859953 -1.84613106  0.09087579\n",
            " -0.65290214 -0.42817664 -0.47988466 -1.18886187 -1.44838809 -1.53489683\n",
            " -1.41358736 -0.79111889 -1.75962232 -2.81463449 -1.36187935 -1.58660484\n",
            " -1.36187935 -1.27537061 -2.84943521 -1.44838809  2.89198391  0.76505228\n",
            "  1.90657319  0.97287048  2.04478994  2.51213436 -0.20345115  1.57843166\n",
            "  1.14588796  2.97849265  0.98977778  0.93806976  1.56053823  0.90326904\n",
            "  1.88867976  1.83697174  0.88636174  2.8233686   3.22111157 -0.22035844\n",
            "  2.1830067   0.8167603   2.3739176   0.36730931  1.73355571  1.31890544\n",
            "  0.28080057  0.36730931  1.64704697  0.69643697  1.63013967  2.11439139\n",
            "  1.87177246 -0.1338497   0.0739685   2.52904166  2.32122346  0.88636174\n",
            "  0.28080057  1.47402949  2.32122346  1.66395426  0.76505228  2.35602418\n",
            "  2.63245769  1.750463    0.67854354  1.07628652  1.92348048  0.54032679]\n"
          ]
        }
      ]
    },
    {
      "cell_type": "code",
      "metadata": {
        "id": "9xna2usm5WZy"
      },
      "source": [],
      "execution_count": null,
      "outputs": []
    },
    {
      "cell_type": "markdown",
      "metadata": {
        "id": "JF1X-i015ZAG"
      },
      "source": [
        "# Non Linear SVM"
      ]
    },
    {
      "cell_type": "code",
      "metadata": {
        "colab": {
          "base_uri": "https://localhost:8080/",
          "height": 292
        },
        "id": "1jw0S3Iq5WzC",
        "outputId": "d464a3c8-fee6-449e-f662-3790b9131f42"
      },
      "source": [
        "from sklearn.datasets import make_moons\n",
        "X, y = make_moons(n_samples=100, noise=0.15, random_state=42)\n",
        "\n",
        "import matplotlib.pyplot as plt\n",
        "\n",
        "def plot_dataset(X, y, axes):\n",
        "    plt.plot(X[:, 0][y==0], X[:, 1][y==0], \"bs\")\n",
        "    plt.plot(X[:, 0][y==1], X[:, 1][y=], \"g^\")\n",
        "    plt.axis(axes)\n",
        "    plt.grid(True, which='both')=1\n",
        "    plt.xlabel(r\"$x_1$\", fontsize=20)\n",
        "    plt.ylabel(r\"$x_2$\", fontsize=20, rotation=0)\n",
        "\n",
        "plot_dataset(X, y, [-1.5, 2.5, -1, 1.5])\n",
        "plt.show()"
      ],
      "execution_count": null,
      "outputs": [
        {
          "output_type": "display_data",
          "data": {
            "image/png": "[encoded data removed]",
            "text/plain": [
              "<Figure size 432x288 with 1 Axes>"
            ]
          },
          "metadata": {
            "needs_background": "light"
          }
        }
      ]
    },
    {
      "cell_type": "code",
      "metadata": {
        "colab": {
          "base_uri": "https://localhost:8080/"
        },
        "id": "b1yCYLE6OXv9",
        "outputId": "7719534a-3133-445d-e5f8-742d2bf23722"
      },
      "source": [
        "print(X,X.shape,y)"
      ],
      "execution_count": null,
      "outputs": [
        {
          "output_type": "stream",
          "name": "stdout",
          "text": [
            "[[ 1.61383833 -0.49115086]\n",
            " [ 0.08984723  0.50439056]\n",
            " [ 0.74721047 -0.36911116]\n",
            " [-1.10174514  0.23685641]\n",
            " [-0.72871455  0.14652347]\n",
            " [-0.65891281  0.857088  ]\n",
            " [ 0.22828266  0.73453868]\n",
            " [ 1.39439184 -0.45063627]\n",
            " [ 0.87158283  0.70852888]\n",
            " [ 0.88304472 -0.12658445]\n",
            " [ 0.38220326  0.76957897]\n",
            " [-0.32279169  0.92145523]\n",
            " [ 1.29900621 -0.64914275]\n",
            " [-0.63569974  0.91873422]\n",
            " [ 1.96899387  0.297549  ]\n",
            " [ 1.21073294  0.37721455]\n",
            " [ 1.13998191 -0.36088456]\n",
            " [ 1.06805159 -0.53460667]\n",
            " [ 0.49598571  0.66135542]\n",
            " [-0.26038715  0.88295876]\n",
            " [-0.06516219  0.13092506]\n",
            " [ 1.87005845 -0.18659309]\n",
            " [ 0.03146515  0.79868048]\n",
            " [-1.03151461  0.35788726]\n",
            " [ 0.45814234  0.00308109]\n",
            " [ 0.40767679  0.9574049 ]\n",
            " [-0.9379972   0.46846678]\n",
            " [ 2.02675758  0.09006383]\n",
            " [ 0.73867736  0.52356398]\n",
            " [ 0.71349755 -0.61055519]\n",
            " [ 0.92445501  0.79897643]\n",
            " [-1.05805492  0.1152524 ]\n",
            " [ 1.80904221 -0.49580332]\n",
            " [-0.17181754  1.27111359]\n",
            " [ 2.22167197 -0.16625369]\n",
            " [ 0.8346617   0.34040713]\n",
            " [ 0.28332589 -0.45537977]\n",
            " [ 0.40728969 -0.10997402]\n",
            " [-0.6303002   0.81437199]\n",
            " [ 0.59525613  0.93666607]\n",
            " [-0.99578508 -0.17956306]\n",
            " [-0.45366574  0.88489567]\n",
            " [ 0.73645602  0.3315385 ]\n",
            " [ 2.10042161  0.33716789]\n",
            " [-0.26764459  0.94669172]\n",
            " [ 0.32384572  1.03101899]\n",
            " [ 1.59212445 -0.40456525]\n",
            " [ 0.14332957  1.13048376]\n",
            " [ 0.31249817 -0.41220505]\n",
            " [ 0.51814426  0.85146409]\n",
            " [-0.22452786  1.01733299]\n",
            " [ 1.131632    0.21402176]\n",
            " [ 0.3723287   0.75960715]\n",
            " [-0.63902305  0.71898449]\n",
            " [ 0.82849531  0.65051142]\n",
            " [ 1.3506206  -0.20663883]\n",
            " [ 1.01195087  0.35059194]\n",
            " [ 0.35506156 -0.57201701]\n",
            " [-0.64970203  0.73792076]\n",
            " [ 1.60190251 -0.10190367]\n",
            " [ 0.27455847  0.01455085]\n",
            " [ 1.85601581  0.66573923]\n",
            " [ 0.12784118  0.7055097 ]\n",
            " [-1.12470228  0.48332509]\n",
            " [ 0.04738364  0.50889219]\n",
            " [ 0.67403854 -0.39105811]\n",
            " [-1.27201559  0.064055  ]\n",
            " [ 0.79988167 -0.23860829]\n",
            " [ 0.18258616 -0.07268884]\n",
            " [ 2.40938072  0.36744482]\n",
            " [ 1.28279009 -0.43007805]\n",
            " [-0.78027235  0.43838237]\n",
            " [ 0.2196007  -0.28235199]\n",
            " [-0.94748558  0.07166469]\n",
            " [ 1.96532685  0.36464118]\n",
            " [ 0.00762513 -0.0559119 ]\n",
            " [ 0.68434134 -0.53968897]\n",
            " [-0.29808882  0.83628765]\n",
            " [ 2.04432263  0.02286165]\n",
            " [-0.03394274 -0.15814918]\n",
            " [ 0.17387413 -0.41773394]\n",
            " [ 1.63958277 -0.0533336 ]\n",
            " [-0.81839086  0.44190981]\n",
            " [-0.18600799  0.74328273]\n",
            " [ 0.82045555  0.13831957]\n",
            " [-0.01658646  0.26904656]\n",
            " [ 0.23277362  0.91351659]\n",
            " [ 1.27522216  0.02650645]\n",
            " [-0.04098885  0.92712414]\n",
            " [ 1.65643511 -0.106336  ]\n",
            " [ 1.57258804  0.07318633]\n",
            " [ 0.88675561 -0.38296277]\n",
            " [ 1.66515433 -0.16247383]\n",
            " [ 1.40382802 -0.32089592]\n",
            " [ 0.53409306  0.84778239]\n",
            " [ 0.18250721 -0.17104312]\n",
            " [ 1.01642634 -0.54001915]\n",
            " [ 0.51358597  0.69508995]\n",
            " [ 1.88061126 -0.05290949]\n",
            " [-0.05321289  0.45951006]] (100, 2) [1 1 1 0 0 0 0 1 0 0 0 0 1 0 1 0 1 1 0 0 1 1 0 0 1 0 0 1 0 1 0 0 1 0 1 0 1\n",
            " 1 0 0 0 0 0 1 0 0 1 0 1 0 0 0 0 0 0 1 0 1 0 1 1 1 1 0 1 1 0 1 1 1 1 0 1 0\n",
            " 1 1 1 0 1 1 1 1 0 0 0 1 0 0 0 1 1 1 1 1 0 1 1 0 1 1]\n"
          ]
        }
      ]
    },
    {
      "cell_type": "code",
      "metadata": {
        "colab": {
          "base_uri": "https://localhost:8080/"
        },
        "id": "K9EpPunZqmgh",
        "outputId": "bf1cf5d3-1131-4b8a-8fd9-ed710ef9b1a5"
      },
      "source": [
        "X[:, 1]"
      ],
      "execution_count": null,
      "outputs": [
        {
          "output_type": "execute_result",
          "data": {
            "text/plain": [
              "array([-0.49115086,  0.50439056, -0.36911116,  0.23685641,  0.14652347,\n",
              "        0.857088  ,  0.73453868, -0.45063627,  0.70852888, -0.12658445,\n",
              "        0.76957897,  0.92145523, -0.64914275,  0.91873422,  0.297549  ,\n",
              "        0.37721455, -0.36088456, -0.53460667,  0.66135542,  0.88295876,\n",
              "        0.13092506, -0.18659309,  0.79868048,  0.35788726,  0.00308109,\n",
              "        0.9574049 ,  0.46846678,  0.09006383,  0.52356398, -0.61055519,\n",
              "        0.79897643,  0.1152524 , -0.49580332,  1.27111359, -0.16625369,\n",
              "        0.34040713, -0.45537977, -0.10997402,  0.81437199,  0.93666607,\n",
              "       -0.17956306,  0.88489567,  0.3315385 ,  0.33716789,  0.94669172,\n",
              "        1.03101899, -0.40456525,  1.13048376, -0.41220505,  0.85146409,\n",
              "        1.01733299,  0.21402176,  0.75960715,  0.71898449,  0.65051142,\n",
              "       -0.20663883,  0.35059194, -0.57201701,  0.73792076, -0.10190367,\n",
              "        0.01455085,  0.66573923,  0.7055097 ,  0.48332509,  0.50889219,\n",
              "       -0.39105811,  0.064055  , -0.23860829, -0.07268884,  0.36744482,\n",
              "       -0.43007805,  0.43838237, -0.28235199,  0.07166469,  0.36464118,\n",
              "       -0.0559119 , -0.53968897,  0.83628765,  0.02286165, -0.15814918,\n",
              "       -0.41773394, -0.0533336 ,  0.44190981,  0.74328273,  0.13831957,\n",
              "        0.26904656,  0.91351659,  0.02650645,  0.92712414, -0.106336  ,\n",
              "        0.07318633, -0.38296277, -0.16247383, -0.32089592,  0.84778239,\n",
              "       -0.17104312, -0.54001915,  0.69508995, -0.05290949,  0.45951006])"
            ]
          },
          "metadata": {},
          "execution_count": 41
        }
      ]
    },
    {
      "cell_type": "code",
      "metadata": {
        "colab": {
          "base_uri": "https://localhost:8080/"
        },
        "id": "rjwgU-JP5W6b",
        "outputId": "22d7a71c-d64e-477d-d69a-6e6bbc3cc3bb"
      },
      "source": [
        "from sklearn.datasets import make_moons\n",
        "from sklearn.pipeline import Pipeline\n",
        "from sklearn.preprocessing import PolynomialFeatures, StandardScaler\n",
        "from sklearn.svm import LinearSVC\n",
        "\n",
        "polynomial_svm_clf = Pipeline([\n",
        "        (\"poly_features\", PolynomialFeatures(degree=3)),\n",
        "        (\"scaler\", StandardScaler()),\n",
        "        (\"svm_clf\", LinearSVC(C=10, loss=\"hinge\", random_state=42))\n",
        "    ])\n",
        "\n",
        "polynomial_svm_clf.fit(X, y)"
      ],
      "execution_count": null,
      "outputs": [
        {
          "output_type": "stream",
          "name": "stderr",
          "text": [
            "/usr/local/lib/python3.7/dist-packages/sklearn/svm/_base.py:947: ConvergenceWarning: Liblinear failed to converge, increase the number of iterations.\n",
            "  \"the number of iterations.\", ConvergenceWarning)\n"
          ]
        },
        {
          "output_type": "execute_result",
          "data": {
            "text/plain": [
              "Pipeline(memory=None,\n",
              "         steps=[('poly_features',\n",
              "                 PolynomialFeatures(degree=3, include_bias=True,\n",
              "                                    interaction_only=False, order='C')),\n",
              "                ('scaler',\n",
              "                 StandardScaler(copy=True, with_mean=True, with_std=True)),\n",
              "                ('svm_clf',\n",
              "                 LinearSVC(C=10, class_weight=None, dual=True,\n",
              "                           fit_intercept=True, intercept_scaling=1,\n",
              "                           loss='hinge', max_iter=1000, multi_class='ovr',\n",
              "                           penalty='l2', random_state=42, tol=0.0001,\n",
              "                           verbose=0))],\n",
              "         verbose=False)"
            ]
          },
          "metadata": {},
          "execution_count": 45
        }
      ]
    },
    {
      "cell_type": "code",
      "metadata": {
        "colab": {
          "base_uri": "https://localhost:8080/",
          "height": 510
        },
        "id": "8kCqlDbI5W-F",
        "outputId": "8b30a156-96a9-4a06-ea5b-861cdefbc84f"
      },
      "source": [
        "import numpy as np\n",
        "def plot_predictions(clf, axes):\n",
        "    x0s = np.linspace(axes[0], axes[1], 100) #Return evenly spaced numbers over a specified interval.\n",
        "    x1s = np.linspace(axes[2], axes[3], 100)\n",
        "    x0, x1 = np.meshgrid(x0s, x1s)\n",
        "    print(x0)\n",
        "    X = np.c_[x0.ravel(), x1.ravel()]\n",
        "    y_pred = clf.predict(X).reshape(x0.shape)\n",
        "    y_decision = clf.decision_function(X).reshape(x0.shape)\n",
        "    plt.contourf(x0, x1, y_pred, cmap=plt.cm.brg, alpha=0.2)\n",
        "    plt.contourf(x0, x1, y_decision, cmap=plt.cm.brg, alpha=0.1)\n",
        "\n",
        "plot_predictions(polynomial_svm_clf, [-1.5, 2.5, -1, 1.5])\n",
        "plot_dataset(X, y, [-1.5, 2.5, -1, 1.5])\n",
        "\n",
        "\n",
        "plt.show()"
      ],
      "execution_count": null,
      "outputs": [
        {
          "output_type": "stream",
          "name": "stdout",
          "text": [
            "[[-1.5        -1.45959596 -1.41919192 ...  2.41919192  2.45959596\n",
            "   2.5       ]\n",
            " [-1.5        -1.45959596 -1.41919192 ...  2.41919192  2.45959596\n",
            "   2.5       ]\n",
            " [-1.5        -1.45959596 -1.41919192 ...  2.41919192  2.45959596\n",
            "   2.5       ]\n",
            " ...\n",
            " [-1.5        -1.45959596 -1.41919192 ...  2.41919192  2.45959596\n",
            "   2.5       ]\n",
            " [-1.5        -1.45959596 -1.41919192 ...  2.41919192  2.45959596\n",
            "   2.5       ]\n",
            " [-1.5        -1.45959596 -1.41919192 ...  2.41919192  2.45959596\n",
            "   2.5       ]]\n"
          ]
        },
        {
          "output_type": "display_data",
          "data": {
            "image/png": "[encoded data removed]",
            "text/plain": [
              "<Figure size 432x288 with 1 Axes>"
            ]
          },
          "metadata": {
            "needs_background": "light"
          }
        }
      ]
    },
    {
      "cell_type": "code",
      "metadata": {
        "colab": {
          "base_uri": "https://localhost:8080/",
          "height": 162
        },
        "id": "PXbfv9o40qMK",
        "outputId": "92c07cf5-a45c-4291-ccc2-3c83c473cede"
      },
      "source": [
        "print(x0s,x1s,x0)"
      ],
      "execution_count": null,
      "outputs": [
        {
          "output_type": "error",
          "ename": "NameError",
          "evalue": "ignored",
          "traceback": [
            "\u001b[0;31m---------------------------------------------------------------------------\u001b[0m",
            "\u001b[0;31mNameError\u001b[0m                                 Traceback (most recent call last)",
            "\u001b[0;32m<ipython-input-47-f56c7f99b2d9>\u001b[0m in \u001b[0;36m<module>\u001b[0;34m()\u001b[0m\n\u001b[0;32m----> 1\u001b[0;31m \u001b[0mprint\u001b[0m\u001b[0;34m(\u001b[0m\u001b[0mx0s\u001b[0m\u001b[0;34m,\u001b[0m\u001b[0mx1s\u001b[0m\u001b[0;34m,\u001b[0m\u001b[0mx0\u001b[0m\u001b[0;34m)\u001b[0m\u001b[0;34m\u001b[0m\u001b[0;34m\u001b[0m\u001b[0m\n\u001b[0m",
            "\u001b[0;31mNameError\u001b[0m: name 'x0s' is not defined"
          ]
        }
      ]
    },
    {
      "cell_type": "code",
      "metadata": {
        "colab": {
          "base_uri": "https://localhost:8080/"
        },
        "id": "cWRJEMhb5XDn",
        "outputId": "ecd1a309-9c5c-4742-9955-5dd940373f92"
      },
      "source": [
        "from sklearn.svm import SVC\n",
        "\n",
        "poly_kernel_svm_clf = Pipeline([\n",
        "        (\"scaler\", StandardScaler()),\n",
        "        (\"svm_clf\", SVC(kernel=\"poly\", degree=3, coef0=1, C=5))\n",
        "    ])\n",
        "poly_kernel_svm_clf.fit(X, y)"
      ],
      "execution_count": null,
      "outputs": [
        {
          "output_type": "execute_result",
          "data": {
            "text/plain": [
              "Pipeline(memory=None,\n",
              "         steps=[('scaler',\n",
              "                 StandardScaler(copy=True, with_mean=True, with_std=True)),\n",
              "                ('svm_clf',\n",
              "                 SVC(C=5, break_ties=False, cache_size=200, class_weight=None,\n",
              "                     coef0=1, decision_function_shape='ovr', degree=3,\n",
              "                     gamma='scale', kernel='poly', max_iter=-1,\n",
              "                     probability=False, random_state=None, shrinking=True,\n",
              "                     tol=0.001, verbose=False))],\n",
              "         verbose=False)"
            ]
          },
          "metadata": {},
          "execution_count": 48
        }
      ]
    },
    {
      "cell_type": "code",
      "metadata": {
        "colab": {
          "base_uri": "https://localhost:8080/"
        },
        "id": "jxtEOGHc5XIL",
        "outputId": "b2fb747d-7a46-4e99-b864-f2a7a1abe4a9"
      },
      "source": [
        "poly100_kernel_svm_clf = Pipeline([\n",
        "        (\"scaler\", StandardScaler()),\n",
        "        (\"svm_clf\", SVC(kernel=\"poly\", degree=10, coef0=100, C=5))\n",
        "    ])\n",
        "poly100_kernel_svm_clf.fit(X, y)"
      ],
      "execution_count": null,
      "outputs": [
        {
          "output_type": "execute_result",
          "data": {
            "text/plain": [
              "Pipeline(memory=None,\n",
              "         steps=[('scaler',\n",
              "                 StandardScaler(copy=True, with_mean=True, with_std=True)),\n",
              "                ('svm_clf',\n",
              "                 SVC(C=5, break_ties=False, cache_size=200, class_weight=None,\n",
              "                     coef0=100, decision_function_shape='ovr', degree=10,\n",
              "                     gamma='scale', kernel='poly', max_iter=-1,\n",
              "                     probability=False, random_state=None, shrinking=True,\n",
              "                     tol=0.001, verbose=False))],\n",
              "         verbose=False)"
            ]
          },
          "metadata": {},
          "execution_count": 49
        }
      ]
    },
    {
      "cell_type": "code",
      "metadata": {
        "colab": {
          "base_uri": "https://localhost:8080/"
        },
        "id": "EcwqYMYw6ir9",
        "outputId": "8970f500-3dd0-4ca7-c5ce-7efe5628c4d8"
      },
      "source": [
        "rbf_kernel_svm_clf = Pipeline([\n",
        "        (\"scaler\", StandardScaler()),\n",
        "        (\"svm_clf\", SVC(kernel=\"rbf\", gamma=5, C=0.001))\n",
        "    ])\n",
        "rbf_kernel_svm_clf.fit(X, y)"
      ],
      "execution_count": null,
      "outputs": [
        {
          "output_type": "execute_result",
          "data": {
            "text/plain": [
              "Pipeline(memory=None,\n",
              "         steps=[('scaler',\n",
              "                 StandardScaler(copy=True, with_mean=True, with_std=True)),\n",
              "                ('svm_clf',\n",
              "                 SVC(C=0.001, break_ties=False, cache_size=200,\n",
              "                     class_weight=None, coef0=0.0,\n",
              "                     decision_function_shape='ovr', degree=3, gamma=5,\n",
              "                     kernel='rbf', max_iter=-1, probability=False,\n",
              "                     random_state=None, shrinking=True, tol=0.001,\n",
              "                     verbose=False))],\n",
              "         verbose=False)"
            ]
          },
          "metadata": {},
          "execution_count": 50
        }
      ]
    },
    {
      "cell_type": "code",
      "metadata": {
        "id": "owVSqlmUSKbC"
      },
      "source": [
        "yp=rbf_kernel_svm_clf.predict(x)"
      ],
      "execution_count": null,
      "outputs": []
    }
  ]
}